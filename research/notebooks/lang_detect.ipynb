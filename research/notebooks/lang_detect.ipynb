{
 "cells": [
  {
   "cell_type": "code",
   "execution_count": 1,
   "metadata": {
    "pycharm": {
     "name": "#%%\n"
    }
   },
   "outputs": [],
   "source": [
    "import  langdetect\n",
    "import os"
   ]
  },
  {
   "cell_type": "code",
   "execution_count": 2,
   "metadata": {
    "pycharm": {
     "name": "#%%\n"
    }
   },
   "outputs": [],
   "source": [
    "test_path =  \"/home/nikolay/data/ml/mil/original_ru/test\"\n"
   ]
  },
  {
   "cell_type": "code",
   "execution_count": 3,
   "metadata": {
    "pycharm": {
     "name": "#%%\n"
    }
   },
   "outputs": [],
   "source": [
    "supported_labels = {'af', 'ar', 'bg', 'bn', 'ca', 'cs', 'cy', 'da', 'de', 'el', 'en', 'es', 'et', 'fa', 'fi', 'fr', 'gu', 'he',\n",
    "'hi', 'hr', 'hu', 'id', 'it', 'ja', 'kn', 'ko', 'lt', 'lv', 'mk', 'ml', 'mr', 'ne', 'nl', 'no', 'pa', 'pl',\n",
    "'pt', 'ro', 'ru', 'sk', 'sl', 'so', 'sq', 'sv', 'sw', 'ta', 'te', 'th', 'tl', 'tr', 'uk', 'ur', 'vi', 'zh-cn', 'zh-tw'}\n",
    "def get_tokens(vw_str):\n",
    "    return \" \".join([x.split(\":\")[0] for x in vw_str.split()])"
   ]
  },
  {
   "cell_type": "code",
   "execution_count": 8,
   "metadata": {
    "pycharm": {
     "name": "#%%\n"
    }
   },
   "outputs": [
    {
     "name": "stdout",
     "output_type": "stream",
     "text": [
      "Checking test_ru_it.txt\n",
      "Total 1340, accurate 1195, accuracy 0.8917910447761194\n",
      "Checking test_ru_ky.txt\n",
      "Total 0, accurate 0, accuracy 0\n",
      "Checking test_ru_tr.txt\n",
      "Total 1340, accurate 1319, accuracy 0.9843283582089553\n",
      "Checking test_ru_nl.txt\n",
      "Total 1340, accurate 1287, accuracy 0.9604477611940299\n",
      "Checking test_ru_es.txt\n",
      "Total 1340, accurate 1016, accuracy 0.7582089552238805\n",
      "Checking test_ru_ja.txt\n",
      "Total 1340, accurate 109, accuracy 0.08134328358208955\n",
      "Checking test_ru_pt.txt\n",
      "Total 1997, accurate 15, accuracy 0.007511266900350526\n",
      "Checking test_ru_fr.txt\n",
      "Total 1340, accurate 1334, accuracy 0.9955223880597015\n",
      "Checking test_ru_cs.txt\n",
      "Total 1340, accurate 1334, accuracy 0.9955223880597015\n",
      "Checking test_ru_zh.txt\n",
      "Total 0, accurate 0, accuracy 0\n",
      "Checking test_ru_de.txt\n",
      "Total 2004, accurate 1969, accuracy 0.9825349301397206\n",
      "Checking test_ru_pl.txt\n",
      "Total 1340, accurate 1335, accuracy 0.996268656716418\n",
      "Checking test_ru_kk.txt\n",
      "Total 0, accurate 0, accuracy 0\n",
      "Absolute Total 14721, accurate 10913, accuracy 0.741321921065145\n"
     ]
    }
   ],
   "source": [
    "total = 0\n",
    "accurate = 0\n",
    "langs = 0\n",
    "for test_file in os.listdir(test_path):\n",
    "    print(\"Checking {}\".format(test_file))\n",
    "    # if langs > 0:\n",
    "    #     break\n",
    "    # langs += 1\n",
    "    lang_total = 0\n",
    "    lang_accurate = 0\n",
    "    with open(os.path.join(test_path, test_file)) as f:\n",
    "        for line in f.readlines():\n",
    "            for text in line.split(\"@\")[1:]:\n",
    "                lang = text[:2]\n",
    "                if lang in supported_labels:\n",
    "                    tokens = get_tokens(text[2:])\n",
    "                    predicted = langdetect.detect(tokens)\n",
    "                    total += 1\n",
    "                    lang_total += 1\n",
    "\n",
    "                    accurate_label = 1 if predicted == lang or (lang=='zh' and 'zh' in predicted) else 0\n",
    "\n",
    "                    accurate += accurate_label\n",
    "                    lang_accurate += accurate_label\n",
    "\n",
    "    print(\"Total {}, accurate {}, accuracy {}\".format(lang_total, lang_accurate, lang_accurate/lang_total if lang_total > 0 else 0))\n",
    "\n",
    "\n",
    "print(\"Absolute Total {}, accurate {}, accuracy {}\".format(total, accurate, accurate/total if total > 0 else 0))\n",
    "\n"
   ]
  },
  {
   "cell_type": "code",
   "execution_count": null,
   "metadata": {
    "pycharm": {
     "name": "#%%\n"
    }
   },
   "outputs": [],
   "source": []
  },
  {
   "cell_type": "code",
   "execution_count": null,
   "metadata": {
    "pycharm": {
     "name": "#%%\n"
    }
   },
   "outputs": [],
   "source": []
  },
  {
   "cell_type": "code",
   "execution_count": null,
   "metadata": {
    "pycharm": {
     "name": "#%%\n"
    }
   },
   "outputs": [],
   "source": []
  },
  {
   "cell_type": "code",
   "execution_count": null,
   "metadata": {
    "pycharm": {
     "name": "#%%\n"
    }
   },
   "outputs": [],
   "source": []
  },
  {
   "cell_type": "code",
   "execution_count": null,
   "metadata": {
    "pycharm": {
     "name": "#%%\n"
    }
   },
   "outputs": [],
   "source": []
  },
  {
   "cell_type": "code",
   "execution_count": null,
   "metadata": {
    "pycharm": {
     "name": "#%%\n"
    }
   },
   "outputs": [],
   "source": []
  },
  {
   "cell_type": "code",
   "execution_count": null,
   "metadata": {
    "pycharm": {
     "name": "#%%\n"
    }
   },
   "outputs": [],
   "source": []
  },
  {
   "cell_type": "code",
   "execution_count": 0,
   "metadata": {
    "collapsed": true,
    "pycharm": {
     "name": "#%%\n"
    }
   },
   "outputs": [],
   "source": []
  },
  {
   "cell_type": "code",
   "execution_count": null,
   "metadata": {
    "pycharm": {
     "name": "#%%\n"
    }
   },
   "outputs": [],
   "source": []
  }
 ],
 "metadata": {
  "kernelspec": {
   "display_name": "Python 3",
   "language": "python",
   "name": "python3"
  },
  "language_info": {
   "codemirror_mode": {
    "name": "ipython",
    "version": 3
   },
   "file_extension": ".py",
   "mimetype": "text/x-python",
   "name": "python",
   "nbconvert_exporter": "python",
   "pygments_lexer": "ipython3",
   "version": "3.6.9"
  }
 },
 "nbformat": 4,
 "nbformat_minor": 1
}
